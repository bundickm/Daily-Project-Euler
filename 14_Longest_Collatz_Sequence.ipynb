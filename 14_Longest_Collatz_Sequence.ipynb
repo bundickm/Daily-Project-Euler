{
  "nbformat": 4,
  "nbformat_minor": 0,
  "metadata": {
    "colab": {
      "name": "14. Longest Collatz Sequence.ipynb",
      "provenance": [],
      "authorship_tag": "ABX9TyNQzwK1uxM0WpHKPZlL2GDF",
      "include_colab_link": true
    },
    "kernelspec": {
      "name": "python3",
      "display_name": "Python 3"
    }
  },
  "cells": [
    {
      "cell_type": "markdown",
      "metadata": {
        "id": "view-in-github",
        "colab_type": "text"
      },
      "source": [
        "<a href=\"https://colab.research.google.com/github/bundickm/Daily-Project-Euler/blob/main/14_Longest_Collatz_Sequence.ipynb\" target=\"_parent\"><img src=\"https://colab.research.google.com/assets/colab-badge.svg\" alt=\"Open In Colab\"/></a>"
      ]
    },
    {
      "cell_type": "markdown",
      "metadata": {
        "id": "1n6as8wSicOk"
      },
      "source": [
        "The following iterative sequence is defined for the set of positive integers:\r\n",
        "\r\n",
        "$n → n/2$ (n is even)\r\n",
        "\r\n",
        "$n → 3n + 1$ (n is odd)\r\n",
        "\r\n",
        "Using the rule above and starting with 13, we generate the following sequence:\r\n",
        "\r\n",
        "$13 → 40 → 20 → 10 → 5 → 16 → 8 → 4 → 2 → 1$\r\n",
        "\r\n",
        "It can be seen that this sequence (starting at 13 and finishing at 1) contains 10 terms. Although it has not been proved yet (Collatz Problem), it is thought that all starting numbers finish at 1.\r\n",
        "\r\n",
        "Which starting number, under one million, produces the longest chain?\r\n",
        "\r\n",
        "NOTE: Once the chain starts the terms are allowed to go above one million."
      ]
    },
    {
      "cell_type": "code",
      "metadata": {
        "colab": {
          "base_uri": "https://localhost:8080/"
        },
        "id": "LxIQEkCoio_k",
        "outputId": "e35a03a2-bf89-4d66-a214-6d75944e2395"
      },
      "source": [
        "# Initial Solution\r\n",
        "\r\n",
        "def find_value_with_longest_chain(upper_limit=1000000):\r\n",
        "    longest_chain = 0\r\n",
        "\r\n",
        "    for n in range(1, upper_limit):\r\n",
        "        count = 1\r\n",
        "        current_value = n\r\n",
        "\r\n",
        "        while n != 1:\r\n",
        "            if n % 2 == 0:\r\n",
        "                n = n/2\r\n",
        "            else:\r\n",
        "                n = (3*n) + 1\r\n",
        "            count += 1\r\n",
        "        \r\n",
        "        if count > longest_chain:\r\n",
        "            longest_chain = count\r\n",
        "            longest_value = current_value\r\n",
        "\r\n",
        "    return longest_value\r\n",
        "\r\n",
        "print(find_value_with_longest_chain())\r\n",
        "%timeit find_value_with_longest_chain()"
      ],
      "execution_count": 29,
      "outputs": [
        {
          "output_type": "stream",
          "text": [
            "837799\n",
            "1 loop, best of 3: 30.5 s per loop\n"
          ],
          "name": "stdout"
        }
      ]
    },
    {
      "cell_type": "code",
      "metadata": {
        "colab": {
          "base_uri": "https://localhost:8080/"
        },
        "id": "QNOfhNz1lVKx",
        "outputId": "e20d8d18-e957-4e00-88c0-03fb44e379d9"
      },
      "source": [
        "# Optimized solution trading memory for speed\r\n",
        "\r\n",
        "def chain_count(n):\r\n",
        "    if n in counts:\r\n",
        "        return counts[n]\r\n",
        "\r\n",
        "    if n % 2 == 0:\r\n",
        "        counts[n] = 1 + chain_count(n/2)\r\n",
        "    else:\r\n",
        "        counts[n] = 1 + chain_count((3*n) + 1)\r\n",
        "    \r\n",
        "    return counts[n]\r\n",
        "\r\n",
        "def find_value_with_longest_chain(upper_limit=1000000):\r\n",
        "    counts = {1: 1}\r\n",
        "    longest_chain = 0\r\n",
        "\r\n",
        "    for n in range(1, upper_limit):\r\n",
        "        if chain_count(n) > longest_chain:\r\n",
        "            longest_chain = chain_count(n)\r\n",
        "            longest_value = n\r\n",
        "    \r\n",
        "    return longest_value\r\n",
        "\r\n",
        "print(find_value_with_longest_chain())\r\n",
        "%timeit find_value_with_longest_chain()"
      ],
      "execution_count": 30,
      "outputs": [
        {
          "output_type": "stream",
          "text": [
            "837799\n",
            "1 loop, best of 3: 383 ms per loop\n"
          ],
          "name": "stdout"
        }
      ]
    }
  ]
}