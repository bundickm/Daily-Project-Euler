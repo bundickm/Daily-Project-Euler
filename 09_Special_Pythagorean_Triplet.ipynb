{
  "nbformat": 4,
  "nbformat_minor": 0,
  "metadata": {
    "colab": {
      "name": "09. Special Pythagorean Triplet.ipynb",
      "provenance": [],
      "authorship_tag": "ABX9TyP0ClDhgkAZR1p1bJr0GjnF",
      "include_colab_link": true
    },
    "kernelspec": {
      "name": "python3",
      "display_name": "Python 3"
    }
  },
  "cells": [
    {
      "cell_type": "markdown",
      "metadata": {
        "id": "view-in-github",
        "colab_type": "text"
      },
      "source": [
        "<a href=\"https://colab.research.google.com/github/bundickm/Daily-Project-Euler/blob/main/09_Special_Pythagorean_Triplet.ipynb\" target=\"_parent\"><img src=\"https://colab.research.google.com/assets/colab-badge.svg\" alt=\"Open In Colab\"/></a>"
      ]
    },
    {
      "cell_type": "markdown",
      "metadata": {
        "id": "Guy5uEPVIo1E"
      },
      "source": [
        "A Pythagorean triplet is a set of three natural numbers, $a < b < c$, for which,\r\n",
        "\r\n",
        "$a^2 + b^2 = c^2$\r\n",
        "\r\n",
        "For example, $32 + 42 = 9 + 16 = 25 = 5^2$.\r\n",
        "\r\n",
        "There exists exactly one Pythagorean triplet for which $a + b + c = 1000$.\r\n",
        "\r\n",
        "Find the product abc."
      ]
    },
    {
      "cell_type": "code",
      "metadata": {
        "id": "eFoh6P2NIofH"
      },
      "source": [
        "def pythagorean_triplet():\r\n",
        "    for a in range(1,500):\r\n",
        "        for b in range(1,500):\r\n",
        "            c = ((a**2) + (b**2))**.5\r\n",
        "            if a + b + c == 1000:\r\n",
        "                return int(a*b*c)"
      ],
      "execution_count": 34,
      "outputs": []
    },
    {
      "cell_type": "code",
      "metadata": {
        "colab": {
          "base_uri": "https://localhost:8080/"
        },
        "id": "ZHjIErGbLSr9",
        "outputId": "3827c2d7-239e-4503-eb0d-9ddcd845a99f"
      },
      "source": [
        "pythagorean_triplet()"
      ],
      "execution_count": 36,
      "outputs": [
        {
          "output_type": "execute_result",
          "data": {
            "text/plain": [
              "31875000"
            ]
          },
          "metadata": {
            "tags": []
          },
          "execution_count": 36
        }
      ]
    }
  ]
}