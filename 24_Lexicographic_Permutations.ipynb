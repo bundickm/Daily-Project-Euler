{
  "nbformat": 4,
  "nbformat_minor": 0,
  "metadata": {
    "colab": {
      "name": "24. Lexicographic Permutations.ipynb",
      "provenance": [],
      "collapsed_sections": [],
      "authorship_tag": "ABX9TyNmotdrufDIIdI1ogt9lDYS"
    },
    "kernelspec": {
      "name": "python3",
      "display_name": "Python 3"
    }
  },
  "cells": [
    {
      "cell_type": "markdown",
      "metadata": {
        "id": "qzMvDHer1TiR"
      },
      "source": [
        "A permutation is an ordered arrangement of objects. For example, 3124 is one possible permutation of the digits 1, 2, 3 and 4. If all of the permutations are listed numerically or alphabetically, we call it lexicographic order. The lexicographic permutations of 0, 1 and 2 are:\r\n",
        "\r\n",
        "012   021   102   120   201   210\r\n",
        "\r\n",
        "What is the millionth lexicographic permutation of the digits 0, 1, 2, 3, 4, 5, 6, 7, 8 and 9?"
      ]
    },
    {
      "cell_type": "code",
      "metadata": {
        "id": "NJ3EO-Ac1TKI"
      },
      "source": [
        "from itertools import permutations\r\n",
        "\r\n",
        "nums =  [0, 1, 2, 3, 4, 5, 6, 7, 8, 9]"
      ],
      "execution_count": null,
      "outputs": []
    },
    {
      "cell_type": "code",
      "metadata": {
        "colab": {
          "base_uri": "https://localhost:8080/"
        },
        "id": "LfOi0iKZ3o9v",
        "outputId": "063c0301-a6a3-4d72-f04e-92cef4012d1c"
      },
      "source": [
        "for i, num in enumerate(permutations(nums)):\r\n",
        "    if i == 999999:\r\n",
        "        print(num)\r\n",
        "        break"
      ],
      "execution_count": null,
      "outputs": [
        {
          "output_type": "stream",
          "text": [
            "(2, 7, 8, 3, 9, 1, 5, 4, 6, 0)\n"
          ],
          "name": "stdout"
        }
      ]
    },
    {
      "cell_type": "code",
      "metadata": {
        "id": "6rbal_DV3qvk"
      },
      "source": [
        ""
      ],
      "execution_count": null,
      "outputs": []
    }
  ]
}