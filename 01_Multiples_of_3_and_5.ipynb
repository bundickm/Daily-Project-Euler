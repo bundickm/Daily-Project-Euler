{
  "nbformat": 4,
  "nbformat_minor": 0,
  "metadata": {
    "colab": {
      "name": "01. Multiples of 3 and 5.ipynb",
      "provenance": [],
      "include_colab_link": true
    },
    "kernelspec": {
      "name": "python3",
      "display_name": "Python 3"
    }
  },
  "cells": [
    {
      "cell_type": "markdown",
      "metadata": {
        "id": "view-in-github",
        "colab_type": "text"
      },
      "source": [
        "<a href=\"https://colab.research.google.com/github/bundickm/Daily-Project-Euler/blob/main/01_Multiples_of_3_and_5.ipynb\" target=\"_parent\"><img src=\"https://colab.research.google.com/assets/colab-badge.svg\" alt=\"Open In Colab\"/></a>"
      ]
    },
    {
      "cell_type": "markdown",
      "metadata": {
        "id": "MddOk4KB9zPp"
      },
      "source": [
        "If we list all the natural numbers below 10 that are multiples of 3 or 5, we get 3, 5, 6 and 9. The sum of these multiples is 23. Find the sum of all the multiples of 3 or 5 below 1000."
      ]
    },
    {
      "cell_type": "code",
      "metadata": {
        "id": "Rkf_tJj3mN37",
        "colab": {
          "base_uri": "https://localhost:8080/"
        },
        "outputId": "7f5e1e5d-f266-4da5-8815-557cd994137c"
      },
      "source": [
        "#initial solution\n",
        "def sum_of_multiples_3_5(n):\n",
        "  total = 0\n",
        "  for i in range(1, n):\n",
        "    if ((i%3==0) | (i%5==0)):\n",
        "      total+=i\n",
        "  return total\n",
        "\n",
        "sum_of_multiples_3_5(1000)"
      ],
      "execution_count": 4,
      "outputs": [
        {
          "output_type": "execute_result",
          "data": {
            "text/plain": [
              "233168"
            ]
          },
          "metadata": {
            "tags": []
          },
          "execution_count": 4
        }
      ]
    },
    {
      "cell_type": "code",
      "metadata": {
        "id": "ubkYuZ4tSz_v",
        "colab": {
          "base_uri": "https://localhost:8080/"
        },
        "outputId": "a4139e70-845a-4cd3-df00-4833cf186f70"
      },
      "source": [
        "#refactored as a list comprehension\n",
        "def sum_of_multiples_3_5(n):\n",
        "  return sum([i for i in range(1, n) \n",
        "              if ((i%3==0) | (i%5==0))])\n",
        "\n",
        "sum_of_multiples_3_5(1000)"
      ],
      "execution_count": 5,
      "outputs": [
        {
          "output_type": "execute_result",
          "data": {
            "text/plain": [
              "233168"
            ]
          },
          "metadata": {
            "tags": []
          },
          "execution_count": 5
        }
      ]
    },
    {
      "cell_type": "code",
      "metadata": {
        "id": "3MtJylY9unPd",
        "colab": {
          "base_uri": "https://localhost:8080/"
        },
        "outputId": "5dbdc244-c968-41c1-cd2a-440a2c41ae96"
      },
      "source": [
        "# Method with math instead of loops\n",
        "def sum_of_multi(target, multiple):\n",
        "  # sum of all multiples up to and including target\n",
        "  x = target // multiple\n",
        "  return multiple*(x*(x+1))//2\n",
        "\n",
        "def sum_of_multiples_3_5(target):\n",
        "  # Adjust target since the problem is non-inclusive\n",
        "  target = target-1\n",
        "  # Return the sum of multiples of 3 and 5\n",
        "  # Remove dupes by subtracting all multiples of\n",
        "  # least common multiplier, 15\n",
        "  return (sum_of_multi(target, 3) + \n",
        "          sum_of_multi(target, 5) - \n",
        "          sum_of_multi(target, 15))\n",
        "\n",
        "sum_of_multiples_3_5(1000)"
      ],
      "execution_count": 6,
      "outputs": [
        {
          "output_type": "execute_result",
          "data": {
            "text/plain": [
              "233168"
            ]
          },
          "metadata": {
            "tags": []
          },
          "execution_count": 6
        }
      ]
    },
    {
      "cell_type": "code",
      "metadata": {
        "id": "ntfI_OlGvctD"
      },
      "source": [
        ""
      ],
      "execution_count": null,
      "outputs": []
    }
  ]
}