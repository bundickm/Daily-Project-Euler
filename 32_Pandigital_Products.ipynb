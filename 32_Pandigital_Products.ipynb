{
  "nbformat": 4,
  "nbformat_minor": 0,
  "metadata": {
    "colab": {
      "name": "32. Pandigital Products.ipynb",
      "provenance": [],
      "collapsed_sections": [],
      "authorship_tag": "ABX9TyP4zwjKQeBZ62iRFK1mRjDR"
    },
    "kernelspec": {
      "name": "python3",
      "display_name": "Python 3"
    }
  },
  "cells": [
    {
      "cell_type": "markdown",
      "metadata": {
        "id": "tLk6mzG6r_V-"
      },
      "source": [
        "We shall say that an n-digit number is pandigital if it makes use of all the digits 1 to n exactly once; for example, the 5-digit number, 15234, is 1 through 5 pandigital.\r\n",
        "\r\n",
        "The product 7254 is unusual, as the identity, 39 × 186 = 7254, containing multiplicand, multiplier, and product is 1 through 9 pandigital.\r\n",
        "\r\n",
        "Find the sum of all products whose multiplicand/multiplier/product identity can be written as a 1 through 9 pandigital.\r\n",
        "\r\n",
        "HINT: Some products can be obtained in more than one way so be sure to only include it once in your sum."
      ]
    },
    {
      "cell_type": "code",
      "metadata": {
        "id": "i-FsyQQNukDj",
        "colab": {
          "base_uri": "https://localhost:8080/"
        },
        "outputId": "8bfe62db-d706-44fb-a860-35a2b2c1043b"
      },
      "source": [
        "def find_pandigital_nums(double_digit, products):\r\n",
        "    one_to_nine = set('123456789')\r\n",
        "    x = 10 if double_digit else 1\r\n",
        "\r\n",
        "    for i in range(1*x, 10*x):\r\n",
        "        for j in range(1000//x, 10000//x):\r\n",
        "            all_nums = str(i) + str(j) + str(i*j)\r\n",
        "            if set(all_nums) == one_to_nine:\r\n",
        "                products.add(i*j)\r\n",
        "            elif len(all_nums) > 9:\r\n",
        "                break\r\n",
        "    return products\r\n",
        "\r\n",
        "sum(find_pandigital_nums(True, find_pandigital_nums(False, set())))"
      ],
      "execution_count": null,
      "outputs": [
        {
          "output_type": "execute_result",
          "data": {
            "text/plain": [
              "45228"
            ]
          },
          "metadata": {
            "tags": []
          },
          "execution_count": 77
        }
      ]
    },
    {
      "cell_type": "code",
      "metadata": {
        "id": "Ln-PfrUMAlt3"
      },
      "source": [
        ""
      ],
      "execution_count": null,
      "outputs": []
    }
  ]
}