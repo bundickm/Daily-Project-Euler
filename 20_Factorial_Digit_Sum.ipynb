{
  "nbformat": 4,
  "nbformat_minor": 0,
  "metadata": {
    "colab": {
      "name": "20. Factorial Digit Sum.ipynb",
      "provenance": [],
      "authorship_tag": "ABX9TyNE9DXf30HX+XASDWp/Itwx"
    },
    "kernelspec": {
      "name": "python3",
      "display_name": "Python 3"
    }
  },
  "cells": [
    {
      "cell_type": "markdown",
      "metadata": {
        "id": "Pwam9IFJToMt"
      },
      "source": [
        "n! means n × (n − 1) × ... × 3 × 2 × 1\r\n",
        "\r\n",
        "For example, 10! = 10 × 9 × ... × 3 × 2 × 1 = 3628800,\r\n",
        "and the sum of the digits in the number 10! is 3 + 6 + 2 + 8 + 8 + 0 + 0 = 27.\r\n",
        "\r\n",
        "Find the sum of the digits in the number 100!"
      ]
    },
    {
      "cell_type": "code",
      "metadata": {
        "id": "5oes6367Tnj1"
      },
      "source": [
        "import math"
      ],
      "execution_count": 2,
      "outputs": []
    },
    {
      "cell_type": "code",
      "metadata": {
        "id": "oB3T_kTPT-vF"
      },
      "source": [
        "def sum_factorial_digits(n=100):\r\n",
        "    fact = math.factorial(n)\r\n",
        "    total = 0\r\n",
        "\r\n",
        "    while fact > 0:\r\n",
        "        total += (fact % 10)\r\n",
        "        fact = (fact // 10)\r\n",
        "    return (total + (fact // 10))"
      ],
      "execution_count": 5,
      "outputs": []
    },
    {
      "cell_type": "code",
      "metadata": {
        "colab": {
          "base_uri": "https://localhost:8080/"
        },
        "id": "sWNzHdbSUF-t",
        "outputId": "47978e63-6231-47f2-c597-dd1ff11a58b9"
      },
      "source": [
        "sum_factorial_digits()"
      ],
      "execution_count": 6,
      "outputs": [
        {
          "output_type": "execute_result",
          "data": {
            "text/plain": [
              "648"
            ]
          },
          "metadata": {
            "tags": []
          },
          "execution_count": 6
        }
      ]
    },
    {
      "cell_type": "code",
      "metadata": {
        "id": "Vk2fN_oOU5sa"
      },
      "source": [
        ""
      ],
      "execution_count": null,
      "outputs": []
    }
  ]
}