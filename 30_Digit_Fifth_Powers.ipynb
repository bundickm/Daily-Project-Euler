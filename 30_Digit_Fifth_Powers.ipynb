{
  "nbformat": 4,
  "nbformat_minor": 0,
  "metadata": {
    "colab": {
      "name": "30 Digit Fifth Powers.ipynb",
      "provenance": [],
      "authorship_tag": "ABX9TyMHUETjdumyRELlMUg0ShvN"
    },
    "kernelspec": {
      "name": "python3",
      "display_name": "Python 3"
    }
  },
  "cells": [
    {
      "cell_type": "markdown",
      "metadata": {
        "id": "6c9HUUmnN1_A"
      },
      "source": [
        "\r\n",
        "\r\n",
        "Surprisingly there are only three numbers that can be written as the sum of fourth powers of their digits:\r\n",
        "\r\n",
        "$1634 = 1^4 + 6^4 + 3^4 + 4^4$ \r\n",
        "\r\n",
        "$8208 = 8^4 + 2^4 + 0^4 + 8^4$\r\n",
        "\r\n",
        "$9474 = 9^4 + 4^4 + 7^4 + 4^4$\r\n",
        "\r\n",
        "As 1 = 1^4 is not a sum it is not included.\r\n",
        "\r\n",
        "The sum of these numbers is 1634 + 8208 + 9474 = 19316.\r\n",
        "\r\n",
        "Find the sum of all the numbers that can be written as the sum of fifth powers of their digits.\r\n"
      ]
    },
    {
      "cell_type": "code",
      "metadata": {
        "colab": {
          "base_uri": "https://localhost:8080/"
        },
        "id": "IiK1fNedN1SW",
        "outputId": "9f1acc1d-b439-48a3-b2cc-ea064c32b3d3"
      },
      "source": [
        "# First attempt, slower using type conversions to break out the individual nums\r\n",
        "import time\r\n",
        "start = time.time()\r\n",
        "\r\n",
        "total = 0\r\n",
        "\r\n",
        "for i in range(10, 354294):\r\n",
        "    nums = list(str(i))\r\n",
        "    sub_total = 0\r\n",
        "\r\n",
        "    for num in nums:\r\n",
        "        sub_total += int(num)**5\r\n",
        "        if sub_total > i:\r\n",
        "            break\r\n",
        "    if sub_total == i:\r\n",
        "        total += i\r\n",
        "\r\n",
        "print(total)\r\n",
        "\r\n",
        "print(time.time() - start)"
      ],
      "execution_count": 11,
      "outputs": [
        {
          "output_type": "stream",
          "text": [
            "443839\n",
            "1.361093521118164\n"
          ],
          "name": "stdout"
        }
      ]
    },
    {
      "cell_type": "code",
      "metadata": {
        "colab": {
          "base_uri": "https://localhost:8080/"
        },
        "id": "gcZ5hwnwTSol",
        "outputId": "ba4b3728-d5c6-4b10-d464-a03e31109952"
      },
      "source": [
        "#Swapped out the type conversion for maths\r\n",
        "start = time.time()\r\n",
        "\r\n",
        "total = 0\r\n",
        "\r\n",
        "for i in range(10, 354294):\r\n",
        "    nums = i\r\n",
        "    sub_total = 0\r\n",
        "\r\n",
        "    while nums > 0:\r\n",
        "        sub_total += (nums % 10)**5\r\n",
        "        nums = (nums // 10)\r\n",
        "\r\n",
        "    if sub_total == i:\r\n",
        "        total += i\r\n",
        "\r\n",
        "print(total)\r\n",
        "\r\n",
        "print(time.time() - start)"
      ],
      "execution_count": 10,
      "outputs": [
        {
          "output_type": "stream",
          "text": [
            "443839\n",
            "0.9192771911621094\n"
          ],
          "name": "stdout"
        }
      ]
    },
    {
      "cell_type": "code",
      "metadata": {
        "id": "OChlwNyHVO1l"
      },
      "source": [
        ""
      ],
      "execution_count": null,
      "outputs": []
    }
  ]
}