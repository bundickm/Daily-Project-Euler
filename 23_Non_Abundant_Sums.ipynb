{
  "nbformat": 4,
  "nbformat_minor": 0,
  "metadata": {
    "colab": {
      "name": "23. Non-Abundant Sums.ipynb",
      "provenance": [],
      "authorship_tag": "ABX9TyN5g56qOrHc2S/sXkbewbsU"
    },
    "kernelspec": {
      "name": "python3",
      "display_name": "Python 3"
    }
  },
  "cells": [
    {
      "cell_type": "markdown",
      "metadata": {
        "id": "ERQin7cNuFdy"
      },
      "source": [
        "A perfect number is a number for which the sum of its proper divisors is exactly equal to the number. For example, the sum of the proper divisors of 28 would be 1 + 2 + 4 + 7 + 14 = 28, which means that 28 is a perfect number.\r\n",
        "\r\n",
        "A number n is called deficient if the sum of its proper divisors is less than n and it is called abundant if this sum exceeds n.\r\n",
        "\r\n",
        "As 12 is the smallest abundant number, 1 + 2 + 3 + 4 + 6 = 16, the smallest number that can be written as the sum of two abundant numbers is 24. By mathematical analysis, it can be shown that all integers greater than 28123 can be written as the sum of two abundant numbers. However, this upper limit cannot be reduced any further by analysis even though it is known that the greatest number that cannot be expressed as the sum of two abundant numbers is less than this limit.\r\n",
        "\r\n",
        "Find the sum of all the positive integers which cannot be written as the sum of two abundant numbers."
      ]
    },
    {
      "cell_type": "code",
      "metadata": {
        "id": "CZQigWsdpaNV"
      },
      "source": [
        "import math\r\n",
        "\r\n",
        "def is_abundant_number(n):\r\n",
        "    total = 1\r\n",
        "    upper_limit = int(math.sqrt(n))\r\n",
        "    \r\n",
        "    if upper_limit**2 == n:\r\n",
        "        total += upper_limit\r\n",
        "    else:\r\n",
        "        upper_limit += 1\r\n",
        "\r\n",
        "    for i in range(2, upper_limit):\r\n",
        "        if n % i == 0:\r\n",
        "            total += i\r\n",
        "            total += int(n / i)\r\n",
        "        if total > n:\r\n",
        "            return True\r\n",
        "    return False"
      ],
      "execution_count": 23,
      "outputs": []
    },
    {
      "cell_type": "code",
      "metadata": {
        "id": "FEDdca55vPP8"
      },
      "source": [
        "def is_abundant_sum(n):\r\n",
        "    for i in abundant_nums:\r\n",
        "        if i > n:\r\n",
        "            return False\r\n",
        "        if (n-i) in abundant_nums:\r\n",
        "            return True\r\n",
        "    return False"
      ],
      "execution_count": 28,
      "outputs": []
    },
    {
      "cell_type": "code",
      "metadata": {
        "colab": {
          "base_uri": "https://localhost:8080/"
        },
        "id": "SHSyC4EOzTRs",
        "outputId": "35a0fb4b-9cd9-4a43-bd68-e5942d9272e5"
      },
      "source": [
        "abundant_nums = set([n for n in range(12, 28123) if is_abundant_number(n)])\r\n",
        "sum(n for n in range(1, 28123+1) if not is_abundant_sum(n))"
      ],
      "execution_count": 31,
      "outputs": [
        {
          "output_type": "execute_result",
          "data": {
            "text/plain": [
              "4179871"
            ]
          },
          "metadata": {
            "tags": []
          },
          "execution_count": 31
        }
      ]
    },
    {
      "cell_type": "code",
      "metadata": {
        "id": "bUy_LQ2W0ZbE"
      },
      "source": [
        ""
      ],
      "execution_count": null,
      "outputs": []
    }
  ]
}