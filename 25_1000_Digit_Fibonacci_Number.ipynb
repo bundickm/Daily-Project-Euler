{
  "nbformat": 4,
  "nbformat_minor": 0,
  "metadata": {
    "colab": {
      "name": "25. 1000-Digit Fibonacci Number.ipynb",
      "provenance": [],
      "collapsed_sections": [],
      "authorship_tag": "ABX9TyPl2F59C3/brKBxxjNNtI6Q"
    },
    "kernelspec": {
      "name": "python3",
      "display_name": "Python 3"
    }
  },
  "cells": [
    {
      "cell_type": "markdown",
      "metadata": {
        "id": "OwtPBlyx4PZR"
      },
      "source": [
        "The Fibonacci sequence is defined by the recurrence relation:\r\n",
        "\r\n",
        "    Fn = Fn−1 + Fn−2, where F1 = 1 and F2 = 1.\r\n",
        "\r\n",
        "Hence the first 12 terms will be:\r\n",
        "\r\n",
        "    F1 = 1\r\n",
        "    F2 = 1\r\n",
        "    F3 = 2\r\n",
        "    F4 = 3\r\n",
        "    F5 = 5\r\n",
        "    F6 = 8\r\n",
        "    F7 = 13\r\n",
        "    F8 = 21\r\n",
        "    F9 = 34\r\n",
        "    F10 = 55\r\n",
        "    F11 = 89\r\n",
        "    F12 = 144\r\n",
        "\r\n",
        "The 12th term, F12, is the first term to contain three digits.\r\n",
        "\r\n",
        "What is the index of the first term in the Fibonacci sequence to contain 1000 digits?"
      ]
    },
    {
      "cell_type": "code",
      "metadata": {
        "colab": {
          "base_uri": "https://localhost:8080/"
        },
        "id": "uzPrfqB74Nlx",
        "outputId": "81c5f88f-ef16-4d13-c3f1-8ab7e4473bbf"
      },
      "source": [
        "f1 = 1\r\n",
        "f2 = 1\r\n",
        "index = 1\r\n",
        "\r\n",
        "while len(str(f1)) < 1000:\r\n",
        "    f1, f2 = f2, f1+f2\r\n",
        "    index += 1\r\n",
        "\r\n",
        "print(index)"
      ],
      "execution_count": null,
      "outputs": [
        {
          "output_type": "stream",
          "text": [
            "4782\n"
          ],
          "name": "stdout"
        }
      ]
    }
  ]
}