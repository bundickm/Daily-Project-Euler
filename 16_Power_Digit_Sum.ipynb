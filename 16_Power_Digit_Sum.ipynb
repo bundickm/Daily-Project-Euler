{
  "nbformat": 4,
  "nbformat_minor": 0,
  "metadata": {
    "colab": {
      "name": "16. Power Digit Sum.ipynb",
      "provenance": [],
      "authorship_tag": "ABX9TyNJxkYTikP63wexBUP8uYyd"
    },
    "kernelspec": {
      "name": "python3",
      "display_name": "Python 3"
    }
  },
  "cells": [
    {
      "cell_type": "markdown",
      "metadata": {
        "id": "YFwcVBarOQ98"
      },
      "source": [
        "$2^{15} = 32768$ and the sum of its digits is $3 + 2 + 7 + 6 + 8 = 26$.\r\n",
        "\r\n",
        "What is the sum of the digits of the number $2^{1000}$?"
      ]
    },
    {
      "cell_type": "code",
      "metadata": {
        "id": "c3p053h9S_dG"
      },
      "source": [
        "import time"
      ],
      "execution_count": null,
      "outputs": []
    },
    {
      "cell_type": "code",
      "metadata": {
        "id": "vxo_jbsHOJy4"
      },
      "source": [
        "# Original solution, leveraging properties of type conversion to have a compact solution\r\n",
        "def sum_digits(base=2, exponent=1000):\r\n",
        "    return sum([int(num) for num in list(str(base**exponent))])"
      ],
      "execution_count": null,
      "outputs": []
    },
    {
      "cell_type": "code",
      "metadata": {
        "colab": {
          "base_uri": "https://localhost:8080/"
        },
        "id": "FZVrgwExO9pr",
        "outputId": "9c89686a-880b-41d5-db2c-310ef4eaca3e"
      },
      "source": [
        "start = time.time()\r\n",
        "\r\n",
        "print(sum_digits())\r\n",
        "\r\n",
        "time.time()-start"
      ],
      "execution_count": null,
      "outputs": [
        {
          "output_type": "stream",
          "text": [
            "1366\n"
          ],
          "name": "stdout"
        },
        {
          "output_type": "execute_result",
          "data": {
            "text/plain": [
              "0.0014677047729492188"
            ]
          },
          "metadata": {
            "tags": []
          },
          "execution_count": 63
        }
      ]
    },
    {
      "cell_type": "code",
      "metadata": {
        "id": "51O4u9KQP3rx"
      },
      "source": [
        "# Faster solution that doesn't waste time with type conversion and lists\r\n",
        "def sum_digits(base=2, exponent=1000):\r\n",
        "    product = base**exponent\r\n",
        "    total = 0\r\n",
        "\r\n",
        "    while product > 0:\r\n",
        "        total += (product % 10)\r\n",
        "        product = (product // 10)\r\n",
        "    return (total + (product // 10))    "
      ],
      "execution_count": null,
      "outputs": []
    },
    {
      "cell_type": "code",
      "metadata": {
        "colab": {
          "base_uri": "https://localhost:8080/"
        },
        "id": "oURmhXNmP_dO",
        "outputId": "54893a13-ad2b-4bd9-9ffc-be7e5d46e6f1"
      },
      "source": [
        "start = time.time()\r\n",
        "\r\n",
        "print(sum_digits())\r\n",
        "\r\n",
        "time.time()-start"
      ],
      "execution_count": null,
      "outputs": [
        {
          "output_type": "stream",
          "text": [
            "1366\n"
          ],
          "name": "stdout"
        },
        {
          "output_type": "execute_result",
          "data": {
            "text/plain": [
              "0.0002779960632324219"
            ]
          },
          "metadata": {
            "tags": []
          },
          "execution_count": 65
        }
      ]
    }
  ]
}