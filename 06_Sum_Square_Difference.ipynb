{
  "nbformat": 4,
  "nbformat_minor": 0,
  "metadata": {
    "colab": {
      "name": "06. Sum Square Difference.ipynb",
      "provenance": [],
      "authorship_tag": "ABX9TyNIVfffU6TbFyoT1C4HH945"
    },
    "kernelspec": {
      "name": "python3",
      "display_name": "Python 3"
    }
  },
  "cells": [
    {
      "cell_type": "markdown",
      "metadata": {
        "id": "xTPeelfu5gBq"
      },
      "source": [
        "The sum of the squares of the first ten natural numbers is,\r\n",
        "\r\n",
        "$1^2 + 2^2 + ... + 10^2 = 385$\r\n",
        "\r\n",
        "The square of the sum of the first ten natural numbers is,\r\n",
        "\r\n",
        "$(1 + 2 + ... + 10)^2 = 55^2 = 3025$\r\n",
        "\r\n",
        "Hence the difference between the sum of the squares of the first ten natural numbers and the square of the sum is $3025 - 385 = 2640$.\r\n",
        "\r\n",
        "Find the difference between the sum of the squares of the first one hundred natural numbers and the square of the sum."
      ]
    },
    {
      "cell_type": "code",
      "metadata": {
        "colab": {
          "base_uri": "https://localhost:8080/"
        },
        "id": "pIhRc_mM6SSi",
        "outputId": "eab1a51b-6c50-4919-a3bc-ff531025ae82"
      },
      "source": [
        "# Initital method stepping through all values in `n`\r\n",
        "def slow_solution(n):\r\n",
        "    sum_squares = 0\r\n",
        "    square_of_sum = 0\r\n",
        "\r\n",
        "    for i in range(1, n+1):\r\n",
        "        sum_squares += (i*i)\r\n",
        "        square_of_sum += i\r\n",
        "    return (square_of_sum * square_of_sum) - sum_squares\r\n",
        "slow_solution(100)"
      ],
      "execution_count": 23,
      "outputs": [
        {
          "output_type": "execute_result",
          "data": {
            "text/plain": [
              "25164150"
            ]
          },
          "metadata": {
            "tags": []
          },
          "execution_count": 23
        }
      ]
    },
    {
      "cell_type": "code",
      "metadata": {
        "colab": {
          "base_uri": "https://localhost:8080/"
        },
        "id": "W0Ahxsbz8hBM",
        "outputId": "7b171ad8-c7cc-4a01-9ece-42fdb12fcd31"
      },
      "source": [
        "# Fast second solution using math\r\n",
        "def sum_of_the_squares(n):\r\n",
        "    return ((n*(n+1)*(2*n+1))/6)\r\n",
        "\r\n",
        "def square_of_the_sum(n):\r\n",
        "    return (((n*(n+1))/2)**2)\r\n",
        "\r\n",
        "int(square_of_the_sum(100) - sum_of_the_squares(100))"
      ],
      "execution_count": 25,
      "outputs": [
        {
          "output_type": "execute_result",
          "data": {
            "text/plain": [
              "25164150"
            ]
          },
          "metadata": {
            "tags": []
          },
          "execution_count": 25
        }
      ]
    },
    {
      "cell_type": "code",
      "metadata": {
        "id": "zVxBwL2j-eBK"
      },
      "source": [
        ""
      ],
      "execution_count": null,
      "outputs": []
    }
  ]
}