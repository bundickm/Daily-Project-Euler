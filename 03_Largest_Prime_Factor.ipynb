{
  "nbformat": 4,
  "nbformat_minor": 0,
  "metadata": {
    "colab": {
      "name": "03. Largest Prime Factor.ipynb",
      "provenance": [],
      "collapsed_sections": [],
      "authorship_tag": "ABX9TyNkZq9jBqCqRsFJmJXcGMcl",
      "include_colab_link": true
    },
    "kernelspec": {
      "name": "python3",
      "display_name": "Python 3"
    }
  },
  "cells": [
    {
      "cell_type": "markdown",
      "metadata": {
        "id": "view-in-github",
        "colab_type": "text"
      },
      "source": [
        "<a href=\"https://colab.research.google.com/github/bundickm/Daily-Project-Euler/blob/main/03_Largest_Prime_Factor.ipynb\" target=\"_parent\"><img src=\"https://colab.research.google.com/assets/colab-badge.svg\" alt=\"Open In Colab\"/></a>"
      ]
    },
    {
      "cell_type": "markdown",
      "metadata": {
        "id": "lpUaZSR5ME5W"
      },
      "source": [
        "The prime factors of 13195 are 5, 7, 13 and 29.\r\n",
        "\r\n",
        "What is the largest prime factor of the number 600851475143 ?"
      ]
    },
    {
      "cell_type": "code",
      "metadata": {
        "id": "jU5h61EPMfwB"
      },
      "source": [
        "import math"
      ],
      "execution_count": null,
      "outputs": []
    },
    {
      "cell_type": "code",
      "metadata": {
        "colab": {
          "base_uri": "https://localhost:8080/"
        },
        "id": "Icovv4owNaCe",
        "outputId": "e4b265ef-3b3d-4e2e-b964-913b95f153b5"
      },
      "source": [
        "n = 600851475143\r\n",
        "\r\n",
        "for i in range(3, int(math.sqrt(n)) + 1, 2): \r\n",
        "    while n % i == 0:\r\n",
        "        max_prime = i\r\n",
        "        n = n / i\r\n",
        "\r\n",
        "print(max_prime) "
      ],
      "execution_count": null,
      "outputs": [
        {
          "output_type": "stream",
          "text": [
            "6857\n"
          ],
          "name": "stdout"
        }
      ]
    }
  ]
}