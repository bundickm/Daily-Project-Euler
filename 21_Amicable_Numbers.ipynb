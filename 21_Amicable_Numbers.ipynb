{
  "nbformat": 4,
  "nbformat_minor": 0,
  "metadata": {
    "colab": {
      "name": "21. Amicable Numbers.ipynb",
      "provenance": [],
      "authorship_tag": "ABX9TyNK3Lt6R/5dJjXqmC7dXDl0"
    },
    "kernelspec": {
      "name": "python3",
      "display_name": "Python 3"
    }
  },
  "cells": [
    {
      "cell_type": "markdown",
      "metadata": {
        "id": "OUHrhKMxVd1o"
      },
      "source": [
        "Let d(n) be defined as the sum of proper divisors of n (numbers less than n which divide evenly into n).\r\n",
        "If d(a) = b and d(b) = a, where a ≠ b, then a and b are an amicable pair and each of a and b are called amicable numbers.\r\n",
        "\r\n",
        "For example, the proper divisors of 220 are 1, 2, 4, 5, 10, 11, 20, 22, 44, 55 and 110; therefore d(220) = 284. The proper divisors of 284 are 1, 2, 4, 71 and 142; so d(284) = 220.\r\n",
        "\r\n",
        "Evaluate the sum of all the amicable numbers under 10000."
      ]
    },
    {
      "cell_type": "code",
      "metadata": {
        "id": "cM1kgDsfWRn7"
      },
      "source": [
        "def find_divisors(n):\r\n",
        "    divisors = []\r\n",
        "    if n == 1:\r\n",
        "        return [1]\r\n",
        "\r\n",
        "    for i in range(1, (n//2) + 1):\r\n",
        "        if n % i == 0:\r\n",
        "            divisors.append(i)\r\n",
        "    return divisors"
      ],
      "execution_count": 6,
      "outputs": []
    },
    {
      "cell_type": "code",
      "metadata": {
        "id": "WJYF2GsjW0LB"
      },
      "source": [
        "amicable_nums = set()\r\n",
        "\r\n",
        "for i in range(1, 10000):\r\n",
        "    m = sum(find_divisors(i))\r\n",
        "    n = sum(find_divisors(m))\r\n",
        "    if (i == n) and (m != n):\r\n",
        "        amicable_nums.add(m)"
      ],
      "execution_count": 10,
      "outputs": []
    },
    {
      "cell_type": "code",
      "metadata": {
        "colab": {
          "base_uri": "https://localhost:8080/"
        },
        "id": "cCc8S-kKW6ae",
        "outputId": "30ff094d-40ab-4765-d898-fd7d96f17dc1"
      },
      "source": [
        "sum(amicable_nums)"
      ],
      "execution_count": 11,
      "outputs": [
        {
          "output_type": "execute_result",
          "data": {
            "text/plain": [
              "31626"
            ]
          },
          "metadata": {
            "tags": []
          },
          "execution_count": 11
        }
      ]
    },
    {
      "cell_type": "code",
      "metadata": {
        "id": "1FilbeVuZ17W"
      },
      "source": [
        ""
      ],
      "execution_count": null,
      "outputs": []
    }
  ]
}