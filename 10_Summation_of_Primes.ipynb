{
  "nbformat": 4,
  "nbformat_minor": 0,
  "metadata": {
    "colab": {
      "name": "10. Summation of Primes.ipynb",
      "provenance": [],
      "authorship_tag": "ABX9TyN+1ipztK7Qea5C4Ct4wFTl",
      "include_colab_link": true
    },
    "kernelspec": {
      "name": "python3",
      "display_name": "Python 3"
    }
  },
  "cells": [
    {
      "cell_type": "markdown",
      "metadata": {
        "id": "view-in-github",
        "colab_type": "text"
      },
      "source": [
        "<a href=\"https://colab.research.google.com/github/bundickm/Daily-Project-Euler/blob/main/10_Summation_of_Primes.ipynb\" target=\"_parent\"><img src=\"https://colab.research.google.com/assets/colab-badge.svg\" alt=\"Open In Colab\"/></a>"
      ]
    },
    {
      "cell_type": "markdown",
      "metadata": {
        "id": "4vHkqlLDNm02"
      },
      "source": [
        "The sum of the primes below 10 is $2 + 3 + 5 + 7 = 17$.\r\n",
        "\r\n",
        "Find the sum of all the primes below two million."
      ]
    },
    {
      "cell_type": "code",
      "metadata": {
        "id": "puoJQlKBNlB5"
      },
      "source": [
        "# First pass, very slow\r\n",
        "\r\n",
        "def sum_primes_below(n):\r\n",
        "    primes = [2]\r\n",
        "    i = 3\r\n",
        "\r\n",
        "    while i < n:\r\n",
        "        for prime in primes:\r\n",
        "            if i % prime == 0:\r\n",
        "                break\r\n",
        "            elif (prime > (i**.5)):\r\n",
        "                primes.append(i)\r\n",
        "                break\r\n",
        "        i+=2\r\n",
        "    \r\n",
        "    return sum(primes)"
      ],
      "execution_count": 17,
      "outputs": []
    },
    {
      "cell_type": "code",
      "metadata": {
        "colab": {
          "base_uri": "https://localhost:8080/"
        },
        "id": "B-mFv-tDOrjL",
        "outputId": "9e8630b7-49fe-4385-a01e-19772e2a4780"
      },
      "source": [
        "print(sum_primes_below(2000000))\r\n",
        "%timeit sum_primes_below(2000000)"
      ],
      "execution_count": 20,
      "outputs": [
        {
          "output_type": "stream",
          "text": [
            "142913828922\n",
            "1 loop, best of 3: 7.51 s per loop\n"
          ],
          "name": "stdout"
        }
      ]
    },
    {
      "cell_type": "code",
      "metadata": {
        "id": "oBDFYkZXOuYi"
      },
      "source": [
        "# Second pass with a better implementation of the sieve of eratosthenes\r\n",
        "def sum_primes_below(n):\r\n",
        "    sum = 0 \r\n",
        "    sieve = [True] * n\r\n",
        "\r\n",
        "    for p in range(2, n):\r\n",
        "        if sieve[p]:\r\n",
        "            sum += p\r\n",
        "            for i in range(p*p, n, p):\r\n",
        "                sieve[i] = False\r\n",
        "    return sum"
      ],
      "execution_count": 22,
      "outputs": []
    },
    {
      "cell_type": "code",
      "metadata": {
        "colab": {
          "base_uri": "https://localhost:8080/"
        },
        "id": "irvi2ujkQlor",
        "outputId": "8d260358-c7fb-46c8-aae9-94dc6c92b305"
      },
      "source": [
        "print(sum_primes_below(2000000))\r\n",
        "%timeit sum_primes_below(2000000)"
      ],
      "execution_count": 23,
      "outputs": [
        {
          "output_type": "stream",
          "text": [
            "142913828922\n",
            "1 loop, best of 3: 405 ms per loop\n"
          ],
          "name": "stdout"
        }
      ]
    },
    {
      "cell_type": "code",
      "metadata": {
        "id": "9JWDT1ixRWS4"
      },
      "source": [
        ""
      ],
      "execution_count": null,
      "outputs": []
    }
  ]
}