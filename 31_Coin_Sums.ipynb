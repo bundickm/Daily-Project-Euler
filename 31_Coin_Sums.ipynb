{
  "nbformat": 4,
  "nbformat_minor": 0,
  "metadata": {
    "colab": {
      "name": "31. Coin Sums.ipynb",
      "provenance": [],
      "collapsed_sections": [],
      "authorship_tag": "ABX9TyPFpI2fOz3CRsa+CZmRec0X"
    },
    "kernelspec": {
      "name": "python3",
      "display_name": "Python 3"
    }
  },
  "cells": [
    {
      "cell_type": "markdown",
      "metadata": {
        "id": "NQccquvRmlqX"
      },
      "source": [
        "In the United Kingdom the currency is made up of pound (£) and pence (p). There are eight coins in general circulation:\r\n",
        "\r\n",
        "1p, 2p, 5p, 10p, 20p, 50p, £1 (100p), and £2 (200p).\r\n",
        "It is possible to make £2 in the following way:\r\n",
        "\r\n",
        "1×£1 + 1×50p + 2×20p + 1×5p + 1×2p + 3×1p\r\n",
        "How many different ways can £2 be made using any number of coins?"
      ]
    },
    {
      "cell_type": "code",
      "metadata": {
        "colab": {
          "base_uri": "https://localhost:8080/"
        },
        "id": "lNVLIy3ypSWp",
        "outputId": "95039a11-ce20-464a-e14d-3f646c106fd4"
      },
      "source": [
        "def coin_combos(target_value, coin_values):\r\n",
        "    combos = [0]*(target_value + 1)\r\n",
        "    combos[0] = 1\r\n",
        "\r\n",
        "    for x in coin_values:\r\n",
        "        for i in range(x, target_value + 1):\r\n",
        "            combos[i] += combos[i-x]\r\n",
        "            \r\n",
        "    return combos[target_value]\r\n",
        "\r\n",
        "coin_combos(200, [1,2,5,10,20,50,100,200])"
      ],
      "execution_count": null,
      "outputs": [
        {
          "output_type": "execute_result",
          "data": {
            "text/plain": [
              "73682"
            ]
          },
          "metadata": {
            "tags": []
          },
          "execution_count": 15
        }
      ]
    },
    {
      "cell_type": "code",
      "metadata": {
        "id": "gQkq-HCGqRQw"
      },
      "source": [
        ""
      ],
      "execution_count": null,
      "outputs": []
    }
  ]
}