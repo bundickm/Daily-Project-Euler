{
  "nbformat": 4,
  "nbformat_minor": 0,
  "metadata": {
    "colab": {
      "name": "33. Digit Cancelling Fractions.ipynb",
      "provenance": [],
      "authorship_tag": "ABX9TyOug0RrY6h7T/dArCs3GaU5"
    },
    "kernelspec": {
      "name": "python3",
      "display_name": "Python 3"
    }
  },
  "cells": [
    {
      "cell_type": "markdown",
      "metadata": {
        "id": "-Uky66-78LM7"
      },
      "source": [
        "The fraction 49/98 is a curious fraction, as an inexperienced mathematician in attempting to simplify it may incorrectly believe that 49/98 = 4/8, which is correct, is obtained by cancelling the 9s.\r\n",
        "\r\n",
        "We shall consider fractions like, 30/50 = 3/5, to be trivial examples.\r\n",
        "\r\n",
        "There are exactly four non-trivial examples of this type of fraction, less than one in value, and containing two digits in the numerator and denominator.\r\n",
        "\r\n",
        "If the product of these four fractions is given in its lowest common terms, find the value of the denominator.\r\n"
      ]
    },
    {
      "cell_type": "code",
      "metadata": {
        "id": "Ownb35KU9OTU"
      },
      "source": [
        "def constraint_is_met(numer, denom):\r\n",
        "    return ((numer * 10 + i) * denom) == (numer * (i * 10 + denom))"
      ],
      "execution_count": 22,
      "outputs": []
    },
    {
      "cell_type": "code",
      "metadata": {
        "colab": {
          "base_uri": "https://localhost:8080/"
        },
        "id": "cQ0Ckd648iC7",
        "outputId": "47161ce9-e719-4ea8-bd7c-d4db1e5c8c86"
      },
      "source": [
        "import math\r\n",
        "\r\n",
        "numer_prod = 1\r\n",
        "denom_prod = 1\r\n",
        " \r\n",
        "for i in range(1, 10):\r\n",
        "    for denom in range(1, i):\r\n",
        "        for numer in range(1, denom):\r\n",
        "            if constraint_is_met(numer, denom):\r\n",
        "                numer_prod *= numer\r\n",
        "                denom_prod *= denom\r\n",
        "\r\n",
        "denom_prod / math.gcd(numer_prod, denom_prod)"
      ],
      "execution_count": 24,
      "outputs": [
        {
          "output_type": "execute_result",
          "data": {
            "text/plain": [
              "100.0"
            ]
          },
          "metadata": {
            "tags": []
          },
          "execution_count": 24
        }
      ]
    },
    {
      "cell_type": "code",
      "metadata": {
        "id": "xHX_xRCt_0js"
      },
      "source": [
        ""
      ],
      "execution_count": null,
      "outputs": []
    }
  ]
}