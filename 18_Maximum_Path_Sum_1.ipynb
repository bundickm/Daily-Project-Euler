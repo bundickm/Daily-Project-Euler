{
  "nbformat": 4,
  "nbformat_minor": 0,
  "metadata": {
    "colab": {
      "name": "18. Maximum Path Sum 1.ipynb",
      "provenance": [],
      "authorship_tag": "ABX9TyO39rYnkGLkQfWFumwsGiIg"
    },
    "kernelspec": {
      "name": "python3",
      "display_name": "Python 3"
    }
  },
  "cells": [
    {
      "cell_type": "code",
      "metadata": {
        "id": "g9EsgJC3Ehq_"
      },
      "source": [
        "triangle = [\r\n",
        "[75],\r\n",
        "[95, 64],\r\n",
        "[17, 47, 82],\r\n",
        "[18, 35, 87, 10],\r\n",
        "[20, 4, 82, 47, 65],\r\n",
        "[19, 1, 23, 75, 3, 34],\r\n",
        "[88, 2, 77, 73, 7, 63, 67],\r\n",
        "[99, 65, 4, 28, 6, 16, 70, 92],\r\n",
        "[41, 41, 26, 56, 83, 40, 80, 70, 33],\r\n",
        "[41, 48, 72, 33, 47, 32, 37, 16, 94, 29],\r\n",
        "[53, 71, 44, 65, 25, 43, 91, 52, 97, 51, 14],\r\n",
        "[70, 11, 33, 28, 77, 73, 17, 78, 39, 68, 17, 57],\r\n",
        "[91, 71, 52, 38, 17, 14, 91, 43, 58, 50, 27, 29, 48],\r\n",
        "[63, 66, 4, 68, 89, 53, 67, 30, 73, 16, 69, 87, 40, 31],\r\n",
        "[4, 62, 98, 27, 23, 9, 70, 98, 73, 93, 38, 53, 60, 4, 23]]"
      ],
      "execution_count": 5,
      "outputs": []
    },
    {
      "cell_type": "code",
      "metadata": {
        "colab": {
          "base_uri": "https://localhost:8080/"
        },
        "id": "PovBF4URFfQ5",
        "outputId": "3f52b047-f74d-49b3-a623-66e578be9845"
      },
      "source": [
        "triangle"
      ],
      "execution_count": 6,
      "outputs": [
        {
          "output_type": "execute_result",
          "data": {
            "text/plain": [
              "[[75],\n",
              " [95, 64],\n",
              " [17, 47, 82],\n",
              " [18, 35, 87, 10],\n",
              " [20, 4, 82, 47, 65],\n",
              " [19, 1, 23, 75, 3, 34],\n",
              " [88, 2, 77, 73, 7, 63, 67],\n",
              " [99, 65, 4, 28, 6, 16, 70, 92],\n",
              " [41, 41, 26, 56, 83, 40, 80, 70, 33],\n",
              " [41, 48, 72, 33, 47, 32, 37, 16, 94, 29],\n",
              " [53, 71, 44, 65, 25, 43, 91, 52, 97, 51, 14],\n",
              " [70, 11, 33, 28, 77, 73, 17, 78, 39, 68, 17, 57],\n",
              " [91, 71, 52, 38, 17, 14, 91, 43, 58, 50, 27, 29, 48],\n",
              " [63, 66, 4, 68, 89, 53, 67, 30, 73, 16, 69, 87, 40, 31],\n",
              " [4, 62, 98, 27, 23, 9, 70, 98, 73, 93, 38, 53, 60, 4, 23]]"
            ]
          },
          "metadata": {
            "tags": []
          },
          "execution_count": 6
        }
      ]
    },
    {
      "cell_type": "code",
      "metadata": {
        "id": "QlGEKrLpL3pL"
      },
      "source": [
        "previous_row = []\r\n",
        "\r\n",
        "for row in triangle[::-1]:\r\n",
        "    current_sums = []\r\n",
        "    if previous_row == []:\r\n",
        "            previous_row = row\r\n",
        "    else:\r\n",
        "        for i, value in enumerate(row):\r\n",
        "            current_sums.append(max((previous_row[i]+value),\r\n",
        "                                    (previous_row[i+1]+value)))\r\n",
        "        previous_row = current_sums"
      ],
      "execution_count": 61,
      "outputs": []
    },
    {
      "cell_type": "code",
      "metadata": {
        "colab": {
          "base_uri": "https://localhost:8080/"
        },
        "id": "Ow-wkEaVOT31",
        "outputId": "9d93e1e3-c78b-4b97-d4d5-c8c048170edd"
      },
      "source": [
        "current_sums[0]"
      ],
      "execution_count": 62,
      "outputs": [
        {
          "output_type": "execute_result",
          "data": {
            "text/plain": [
              "1074"
            ]
          },
          "metadata": {
            "tags": []
          },
          "execution_count": 62
        }
      ]
    },
    {
      "cell_type": "code",
      "metadata": {
        "id": "sM2OOa7FPAtm"
      },
      "source": [
        ""
      ],
      "execution_count": null,
      "outputs": []
    }
  ]
}