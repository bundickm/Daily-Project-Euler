{
  "nbformat": 4,
  "nbformat_minor": 0,
  "metadata": {
    "colab": {
      "name": "15. Lattice Paths.ipynb",
      "provenance": [],
      "collapsed_sections": [],
      "authorship_tag": "ABX9TyNONUgThtNgqelQh095EmH6"
    },
    "kernelspec": {
      "name": "python3",
      "display_name": "Python 3"
    }
  },
  "cells": [
    {
      "cell_type": "markdown",
      "metadata": {
        "id": "zR-825k7MvcX"
      },
      "source": [
        "Starting in the top left corner of a 2×2 grid, and only being able to move to the right and down, there are exactly 6 routes to the bottom right corner.\r\n",
        "\r\n",
        "How many such routes are there through a 20×20 grid?"
      ]
    },
    {
      "cell_type": "code",
      "metadata": {
        "colab": {
          "base_uri": "https://localhost:8080/"
        },
        "id": "Tmwc9V4gMyNO",
        "outputId": "aaa3da66-0f58-49ef-8e8c-117b3c22e8d6"
      },
      "source": [
        "from math import ceil\r\n",
        "\r\n",
        "def find_route_count(n):\r\n",
        "    result = 1\r\n",
        "    for i in range(1, n):\r\n",
        "        result = result * ((n+i)/i)\r\n",
        "    return ceil(result * 2)\r\n",
        "\r\n",
        "find_route_count(20)"
      ],
      "execution_count": null,
      "outputs": [
        {
          "output_type": "execute_result",
          "data": {
            "text/plain": [
              "137846528820"
            ]
          },
          "metadata": {
            "tags": []
          },
          "execution_count": 10
        }
      ]
    }
  ]
}