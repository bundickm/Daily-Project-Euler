{
  "nbformat": 4,
  "nbformat_minor": 0,
  "metadata": {
    "colab": {
      "name": "22. Names Scores.ipynb",
      "provenance": [],
      "authorship_tag": "ABX9TyPVAdCISE0CRc2kPrdtLH9K"
    },
    "kernelspec": {
      "name": "python3",
      "display_name": "Python 3"
    }
  },
  "cells": [
    {
      "cell_type": "markdown",
      "metadata": {
        "id": "ZJqiZTZikK3_"
      },
      "source": [
        "Using names.txt (right click and 'Save Link/Target As...'), a 46K text file containing over five-thousand first names, begin by sorting it into alphabetical order. Then working out the alphabetical value for each name, multiply this value by its alphabetical position in the list to obtain a name score.\r\n",
        "\r\n",
        "For example, when the list is sorted into alphabetical order, COLIN, which is worth 3 + 15 + 12 + 9 + 14 = 53, is the 938th name in the list. So, COLIN would obtain a score of 938 × 53 = 49714.\r\n",
        "\r\n",
        "What is the total of all the name scores in the file?"
      ]
    },
    {
      "cell_type": "code",
      "metadata": {
        "id": "8w87E9qAkHut"
      },
      "source": [
        "import pandas as pd"
      ],
      "execution_count": 1,
      "outputs": []
    },
    {
      "cell_type": "code",
      "metadata": {
        "id": "f4y2Tt9Hk21R"
      },
      "source": [
        "def alpha_value(word):\r\n",
        "    total = 0\r\n",
        "\r\n",
        "    for letter in list(word):\r\n",
        "        total += ord(letter)-64\r\n",
        "    \r\n",
        "    return total"
      ],
      "execution_count": 51,
      "outputs": []
    },
    {
      "cell_type": "code",
      "metadata": {
        "id": "IjL3tYI4ky5u"
      },
      "source": [
        "df = pd.read_csv('p022_names.txt', header=None).T\r\n",
        "df = df.sort_values(by=0)\r\n",
        "df['position'] = list(range(1,5164))\r\n",
        "df = df[:-1]\r\n",
        "df['alpha_value'] = df[0].apply(alpha_value)\r\n",
        "df['name_score'] = df['alpha_value'] * df['position']"
      ],
      "execution_count": 53,
      "outputs": []
    },
    {
      "cell_type": "code",
      "metadata": {
        "colab": {
          "base_uri": "https://localhost:8080/"
        },
        "id": "T9ffbvdmk3iE",
        "outputId": "88ea3c10-de0f-4bf5-85c2-93f42cd49a38"
      },
      "source": [
        "sum(df['name_score'])"
      ],
      "execution_count": 55,
      "outputs": [
        {
          "output_type": "execute_result",
          "data": {
            "text/plain": [
              "871198282"
            ]
          },
          "metadata": {
            "tags": []
          },
          "execution_count": 55
        }
      ]
    },
    {
      "cell_type": "code",
      "metadata": {
        "id": "7z4I1GyPofjJ"
      },
      "source": [
        ""
      ],
      "execution_count": null,
      "outputs": []
    }
  ]
}