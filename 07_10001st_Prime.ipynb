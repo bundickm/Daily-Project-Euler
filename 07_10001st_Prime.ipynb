{
  "nbformat": 4,
  "nbformat_minor": 0,
  "metadata": {
    "colab": {
      "name": "07. 10001st Prime.ipynb",
      "provenance": [],
      "collapsed_sections": [],
      "authorship_tag": "ABX9TyM3lDIxDhplW9zlQAnuP28w"
    },
    "kernelspec": {
      "name": "python3",
      "display_name": "Python 3"
    }
  },
  "cells": [
    {
      "cell_type": "markdown",
      "metadata": {
        "id": "p5Z1U2zT0Sls"
      },
      "source": [
        "By listing the first six prime numbers: 2, 3, 5, 7, 11, and 13, we can see that the 6th prime is 13.\r\n",
        "\r\n",
        "What is the 10 001st prime number?"
      ]
    },
    {
      "cell_type": "code",
      "metadata": {
        "id": "3hYc6aR40Okn"
      },
      "source": [
        "def find_nth_prime(n):\r\n",
        "    num = 3\r\n",
        "    prime_count = 1\r\n",
        "    primes = [2]\r\n",
        "\r\n",
        "    while prime_count < n:\r\n",
        "        upper_bound = math.sqrt(num)\r\n",
        "        for prime in primes:\r\n",
        "            if num % prime == 0:\r\n",
        "                break\r\n",
        "        else:\r\n",
        "            primes.append(num)\r\n",
        "            prime_count += 1\r\n",
        "        num += 2\r\n",
        "    return primes[-1]"
      ],
      "execution_count": 18,
      "outputs": []
    },
    {
      "cell_type": "code",
      "metadata": {
        "colab": {
          "base_uri": "https://localhost:8080/"
        },
        "id": "2rKJLUkX1O-H",
        "outputId": "ae55cca7-c93c-40a6-e0c6-d38c6adc33bc"
      },
      "source": [
        "find_nth_prime(10001)"
      ],
      "execution_count": 21,
      "outputs": [
        {
          "output_type": "execute_result",
          "data": {
            "text/plain": [
              "104743"
            ]
          },
          "metadata": {
            "tags": []
          },
          "execution_count": 21
        }
      ]
    },
    {
      "cell_type": "code",
      "metadata": {
        "id": "5PQzvXrN2Weo"
      },
      "source": [
        ""
      ],
      "execution_count": null,
      "outputs": []
    }
  ]
}