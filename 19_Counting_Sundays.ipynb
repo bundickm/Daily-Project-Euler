{
  "nbformat": 4,
  "nbformat_minor": 0,
  "metadata": {
    "colab": {
      "name": "19. Counting Sundays.ipynb",
      "provenance": [],
      "authorship_tag": "ABX9TyMAKmy+NzKmMHnhljfjK1e/"
    },
    "kernelspec": {
      "name": "python3",
      "display_name": "Python 3"
    }
  },
  "cells": [
    {
      "cell_type": "markdown",
      "metadata": {
        "id": "6v4oe5eyQMdA"
      },
      "source": [
        "You are given the following information, but you may prefer to do some research for yourself.\r\n",
        "\r\n",
        "- 1 Jan 1900 was a Monday.\r\n",
        "- Thirty days has September,\r\n",
        "- April, June and November.\r\n",
        "- All the rest have thirty-one,\r\n",
        "- Saving February alone,\r\n",
        "    - Which has twenty-eight, rain or shine.\r\n",
        "    - And on leap years, twenty-nine.\r\n",
        "- A leap year occurs on any year evenly divisible by 4, but not on a century unless it is divisible by 400.\r\n",
        "\r\n",
        "How many Sundays fell on the first of the month during the twentieth century (1 Jan 1901 to 31 Dec 2000)?"
      ]
    },
    {
      "cell_type": "code",
      "metadata": {
        "id": "1G76sNGxQGdI"
      },
      "source": [
        "from datetime import date"
      ],
      "execution_count": 21,
      "outputs": []
    },
    {
      "cell_type": "code",
      "metadata": {
        "id": "_hQ38KSlRiVg"
      },
      "source": [
        "def count_sundays(start_year=1901, end_year=2001):\r\n",
        "    sunday_count = 0\r\n",
        "\r\n",
        "    for year in range(start_year, end_year):\r\n",
        "        for month in range(1, 13):\r\n",
        "            day = date(year, month, 1)\r\n",
        "            if day.weekday() == 6:\r\n",
        "                sunday_count += 1\r\n",
        "    return sunday_count"
      ],
      "execution_count": 25,
      "outputs": []
    },
    {
      "cell_type": "code",
      "metadata": {
        "colab": {
          "base_uri": "https://localhost:8080/"
        },
        "id": "YsAnaWBvSkXJ",
        "outputId": "5461d733-c753-4956-bdf7-9f24f355472f"
      },
      "source": [
        "count_sundays()"
      ],
      "execution_count": 26,
      "outputs": [
        {
          "output_type": "execute_result",
          "data": {
            "text/plain": [
              "171"
            ]
          },
          "metadata": {
            "tags": []
          },
          "execution_count": 26
        }
      ]
    },
    {
      "cell_type": "code",
      "metadata": {
        "id": "cRpx0ZFxTBqe"
      },
      "source": [
        ""
      ],
      "execution_count": null,
      "outputs": []
    }
  ]
}