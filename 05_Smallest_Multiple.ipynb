{
  "nbformat": 4,
  "nbformat_minor": 0,
  "metadata": {
    "colab": {
      "name": "05. Smallest Multiple.ipynb",
      "provenance": [],
      "authorship_tag": "ABX9TyPms64u0V+WYgz4vJSYwlUS"
    },
    "kernelspec": {
      "name": "python3",
      "display_name": "Python 3"
    }
  },
  "cells": [
    {
      "cell_type": "markdown",
      "metadata": {
        "id": "9vv5t2mEFMCt"
      },
      "source": [
        "2520 is the smallest number that can be divided by each of the numbers from 1 to 10 without any remainder.\r\n",
        "\r\n",
        "What is the smallest positive number that is evenly divisible by all of the numbers from 1 to 20?"
      ]
    },
    {
      "cell_type": "code",
      "metadata": {
        "colab": {
          "base_uri": "https://localhost:8080/"
        },
        "id": "oocF2AuWFmhk",
        "outputId": "6828f98b-4bd0-4776-fd72-5ee3645969df"
      },
      "source": [
        "found = False\r\n",
        "num = 2520\r\n",
        "\r\n",
        "while not found:\r\n",
        "    for i in range(11,21):\r\n",
        "        if num % i != 0:\r\n",
        "            num += 2520\r\n",
        "            break\r\n",
        "    else:\r\n",
        "        print(num)\r\n",
        "        found = True"
      ],
      "execution_count": 21,
      "outputs": [
        {
          "output_type": "stream",
          "text": [
            "232792560\n"
          ],
          "name": "stdout"
        }
      ]
    },
    {
      "cell_type": "code",
      "metadata": {
        "id": "kN4zllHDIVvZ"
      },
      "source": [
        ""
      ],
      "execution_count": null,
      "outputs": []
    }
  ]
}