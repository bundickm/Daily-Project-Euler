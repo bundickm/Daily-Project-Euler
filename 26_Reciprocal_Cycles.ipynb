{
  "nbformat": 4,
  "nbformat_minor": 0,
  "metadata": {
    "colab": {
      "name": "26. Reciprocal Cycles.ipynb",
      "provenance": [],
      "authorship_tag": "ABX9TyO4iWzJElpnRWU+Tq96SdnY"
    },
    "kernelspec": {
      "display_name": "Python 3",
      "name": "python3"
    }
  },
  "cells": [
    {
      "cell_type": "markdown",
      "metadata": {
        "id": "cYg7uwRIJ0Eh"
      },
      "source": [
        "A unit fraction contains 1 in the numerator. The decimal representation of the unit fractions with denominators 2 to 10 are given:\r\n",
        "\r\n",
        "    1/2\t= \t0.5\r\n",
        "    1/3\t= \t0.(3)\r\n",
        "    1/4\t= \t0.25\r\n",
        "    1/5\t= \t0.2\r\n",
        "    1/6\t= \t0.1(6)\r\n",
        "    1/7\t= \t0.(142857)\r\n",
        "    1/8\t= \t0.125\r\n",
        "    1/9\t= \t0.(1)\r\n",
        "    1/10\t= \t0.1 \r\n",
        "\r\n",
        "Where 0.1(6) means 0.166666..., and has a 1-digit recurring cycle. It can be seen that 1/7 has a 6-digit recurring cycle.\r\n",
        "\r\n",
        "Find the value of d < 1000 for which 1/d contains the longest recurring cycle in its decimal fraction part."
      ]
    },
    {
      "cell_type": "code",
      "metadata": {
        "colab": {
          "base_uri": "https://localhost:8080/"
        },
        "id": "TjVApHv1KFoH",
        "outputId": "54f08ab4-76c7-4c0c-eb5a-fe2978e34483"
      },
      "source": [
        "import itertools\r\n",
        "\r\n",
        "def cycle_length(n):\r\n",
        "    remainder = 10\r\n",
        "    cycle = {}\r\n",
        "\r\n",
        "    for i in itertools.count(0):\r\n",
        "        if remainder == 0:\r\n",
        "            return 0\r\n",
        "        elif remainder in cycle:\r\n",
        "            return i - cycle[remainder]\r\n",
        "        cycle[remainder] = i\r\n",
        "        remainder = 10*(remainder % n)\r\n",
        "    \r\n",
        "_, i = max((cycle_length(i),i) for i in range(2,1000))\r\n",
        "print(i)"
      ],
      "execution_count": 25,
      "outputs": [
        {
          "output_type": "stream",
          "text": [
            "983\n"
          ],
          "name": "stdout"
        }
      ]
    },
    {
      "cell_type": "code",
      "metadata": {
        "id": "gaV_6F-DPFsB"
      },
      "source": [
        ""
      ],
      "execution_count": null,
      "outputs": []
    }
  ]
}