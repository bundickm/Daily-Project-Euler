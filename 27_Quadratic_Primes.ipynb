{
  "nbformat": 4,
  "nbformat_minor": 0,
  "metadata": {
    "colab": {
      "name": "27. Quadratic Primes.ipynb",
      "provenance": [],
      "collapsed_sections": [],
      "authorship_tag": "ABX9TyP1ZcBJyMLo3RAGs4md8lCy"
    },
    "kernelspec": {
      "name": "python3",
      "display_name": "Python 3"
    }
  },
  "cells": [
    {
      "cell_type": "markdown",
      "metadata": {
        "id": "rk4KACUuNBJl"
      },
      "source": [
        "Euler discovered the remarkable quadratic formula:\r\n",
        "\r\n",
        "$n^2 + n + 41$\r\n",
        "\r\n",
        "It turns out that the formula will produce 40 primes for the consecutive integer values $ 0 \\leq n \\leq 39$. However, when $n = 40, 40^2 + 40 + 41 = 40(40 + 1) + 41$ is divisible by 41, and certainly when $n = 41, 41^2 + 41 + 41$ is clearly divisible by 41.\r\n",
        "\r\n",
        "The incredible formula $n^2 - 79n + 1601$ was discovered, which produces 80 primes for the consecutive values $ 0 \\leq n \\leq 79$. The product of the coefficients, −79 and 1601, is −126479.\r\n",
        "\r\n",
        "Considering quadratics of the form:\r\n",
        "\r\n",
        "$ n^2 +  an + b$, where $|a| < 1000$ and $|b| \\leq 1000$\r\n",
        "\r\n",
        "where $|n|$ is the modulus/absolute value of $n$\r\n",
        "e.g. $|11| = 11$ and $|-4| = 4$\r\n",
        "\r\n",
        "Find the product of the coefficients, $a$ and $b$, for the quadratic expression that produces the maximum number of primes for consecutive values of $n$, starting with $n = 0$."
      ]
    },
    {
      "cell_type": "code",
      "metadata": {
        "id": "sVCXyWUFM0PV"
      },
      "source": [
        "import math\r\n",
        "\r\n",
        "def quadratic(n, a, b):\r\n",
        "    return ((n**2) + (a*n) + b)\r\n",
        "\r\n",
        "def is_prime(n):\r\n",
        "  upper_limit = (n // 2) + 1\r\n",
        "\r\n",
        "  if (n < 2):\r\n",
        "    return False\r\n",
        "  if (n % 2 == 0):\r\n",
        "    return n == 2\r\n",
        "\r\n",
        "  for i in range(3, upper_limit, 2):\r\n",
        "    if (n % i == 0):\r\n",
        "      return False\r\n",
        "  return True\r\n",
        "\r\n",
        "def consecutive_primes(a, b):\r\n",
        "  for n in range(len(primes)):\r\n",
        "    if (not is_prime(quadratic(n, a, b))):\r\n",
        "      return n"
      ],
      "execution_count": 51,
      "outputs": []
    },
    {
      "cell_type": "code",
      "metadata": {
        "id": "nIgqj3n0QNaI"
      },
      "source": [
        "primes = [2, 3, 5, 7, 11, 13, 17, 19, 23, 29, 31, 37, 41, 43, 47, 53, 59, 61,\r\n",
        "          67, 71, 73, 79, 83, 89, 97, 101, 103, 107, 109, 113, 127, 131, 137,\r\n",
        "          139, 149, 151, 157, 163, 167, 173, 179, 181, 191, 193, 197, 199, 211,\r\n",
        "          223, 227, 229, 233, 239, 241, 251, 257, 263, 269, 271, 277, 281, 283,\r\n",
        "          293, 307, 311, 313, 317, 331, 337, 347, 349, 353, 359, 367, 373, 379,\r\n",
        "          383, 389, 397, 401, 409, 419, 421, 431, 433, 439, 443, 449, 457, 461,\r\n",
        "          463, 467, 479, 487, 491, 499, 503, 509, 521, 523, 541, 547, 557, 563,\r\n",
        "          569, 571, 577, 587, 593, 599, 601, 607, 613, 617, 619, 631, 641, 643,\r\n",
        "          647, 653, 659, 661, 673, 677, 683, 691, 701, 709, 719, 727, 733, 739,\r\n",
        "          743, 751, 757, 761, 769, 773, 787, 797, 809, 811, 821, 823, 827, 829,\r\n",
        "          839, 853, 857, 859, 863, 877, 881, 883, 887, 907, 911, 919, 929, 937,\r\n",
        "          941, 947, 953, 967, 971, 977, 983, 991, 997]\r\n",
        "\r\n",
        "def solution():\r\n",
        "  max_prime_count = 0\r\n",
        "  max_product = 0\r\n",
        "\r\n",
        "  for a in range(-999, 1000, 2):\r\n",
        "    for i in range(len(primes)):\r\n",
        "      b = primes[i]\r\n",
        "      prime_count = consecutive_primes(a, b)\r\n",
        "\r\n",
        "      if (prime_count > max_prime_count):\r\n",
        "        max_prime_count = prime_count\r\n",
        "        max_product = a * b\r\n",
        "\r\n",
        "  return max_product"
      ],
      "execution_count": 60,
      "outputs": []
    },
    {
      "cell_type": "code",
      "metadata": {
        "colab": {
          "base_uri": "https://localhost:8080/"
        },
        "id": "0_xXihLOX2Mf",
        "outputId": "1aaf2bf7-4121-482f-e83f-184cf8680c37"
      },
      "source": [
        "solution()"
      ],
      "execution_count": 61,
      "outputs": [
        {
          "output_type": "stream",
          "text": [
            "-999 2\n",
            "-995 997\n",
            "-499 997\n",
            "-325 977\n",
            "-245 977\n",
            "-197 983\n",
            "-163 983\n",
            "-131 941\n",
            "-121 947\n",
            "-105 967\n",
            "-61 971\n"
          ],
          "name": "stdout"
        },
        {
          "output_type": "execute_result",
          "data": {
            "text/plain": [
              "-59231"
            ]
          },
          "metadata": {
            "tags": []
          },
          "execution_count": 61
        }
      ]
    },
    {
      "cell_type": "code",
      "metadata": {
        "id": "o-H75qbCt5nD"
      },
      "source": [
        ""
      ],
      "execution_count": null,
      "outputs": []
    }
  ]
}