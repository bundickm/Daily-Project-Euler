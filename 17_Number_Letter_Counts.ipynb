{
  "nbformat": 4,
  "nbformat_minor": 0,
  "metadata": {
    "colab": {
      "name": "17. Number Letter Counts.ipynb",
      "provenance": [],
      "authorship_tag": "ABX9TyPS+loSlPgOqau1fBjqByNw"
    },
    "kernelspec": {
      "name": "python3",
      "display_name": "Python 3"
    }
  },
  "cells": [
    {
      "cell_type": "markdown",
      "metadata": {
        "id": "GKXFnLEfUNx4"
      },
      "source": [
        "If the numbers 1 to 5 are written out in words: one, two, three, four, five, then there are $3 + 3 + 5 + 4 + 4 = 19$ letters used in total.\r\n",
        "\r\n",
        "If all the numbers from 1 to 1000 (one thousand) inclusive were written out in words, how many letters would be used?\r\n",
        "\r\n",
        "\r\n",
        "NOTE: Do not count spaces or hyphens. For example, 342 (three hundred and forty-two) contains 23 letters and 115 (one hundred and fifteen) contains 20 letters. The use of \"and\" when writing out numbers is in compliance with British usage."
      ]
    },
    {
      "cell_type": "code",
      "metadata": {
        "id": "CEAnN6fEUL2e"
      },
      "source": [
        "def number_to_english(n):\r\n",
        "    ones = [\"zero\", \"one\", \"two\", \"three\", \"four\", \"five\", \"six\", \"seven\", \r\n",
        "            \"eight\", \"nine\", \"ten\", \"eleven\", \"twelve\", \"thirteen\", \"fourteen\",\r\n",
        "            \"fifteen\", \"sixteen\", \"seventeen\", \"eighteen\", \"nineteen\"]\r\n",
        "    tens = [None, None, \"twenty\", \"thirty\", \"forty\", \"fifty\", \"sixty\",\r\n",
        "            \"seventy\", \"eighty\", \"ninety\"]\r\n",
        "    \r\n",
        "    if 0 <= n < 20:\r\n",
        "        return ones[n]\r\n",
        "    elif 20 <= n <= 90 and n % 10 == 0:\r\n",
        "        return tens[n // 10]\r\n",
        "    elif 20 < n < 100:\r\n",
        "        return tens[n // 10] + \"-\" + ones[n % 10]\r\n",
        "    elif 100 <= n <= 900 and n % 100 == 0:\r\n",
        "        return ones[n // 100] + \" hundred\"\r\n",
        "    elif 100 < n < 1000:\r\n",
        "        return ones[n // 100] + \" hundred and \" + number_to_english(n % 100)\r\n",
        "    elif n == 1000:\r\n",
        "        return \"one thousand\""
      ],
      "execution_count": 13,
      "outputs": []
    },
    {
      "cell_type": "code",
      "metadata": {
        "colab": {
          "base_uri": "https://localhost:8080/"
        },
        "id": "duPECJnfqiPV",
        "outputId": "0b63b69e-6c41-44ec-99de-2267fa0269e4"
      },
      "source": [
        "n = 1000\r\n",
        "answer = 0\r\n",
        "\r\n",
        "for i in range(1, n+1):\r\n",
        "    words = number_to_english(i).replace(\" \", \"\").replace(\"-\", \"\")\r\n",
        "    answer += len(words)\r\n",
        "print(answer)"
      ],
      "execution_count": 14,
      "outputs": [
        {
          "output_type": "stream",
          "text": [
            "21124\n"
          ],
          "name": "stdout"
        }
      ]
    },
    {
      "cell_type": "code",
      "metadata": {
        "id": "8NtugVg9rqa2"
      },
      "source": [
        ""
      ],
      "execution_count": null,
      "outputs": []
    }
  ]
}