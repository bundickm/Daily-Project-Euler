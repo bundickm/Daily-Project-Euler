{
  "nbformat": 4,
  "nbformat_minor": 0,
  "metadata": {
    "colab": {
      "name": "28. Number Spiral Diagonals.ipynb",
      "provenance": [],
      "authorship_tag": "ABX9TyMYixdcAP90MsxThVaurBTJ"
    },
    "kernelspec": {
      "name": "python3",
      "display_name": "Python 3"
    }
  },
  "cells": [
    {
      "cell_type": "markdown",
      "metadata": {
        "id": "KjV_aIAg1g2q"
      },
      "source": [
        "Starting with the number 1 and moving to the right in a clockwise direction a 5 by 5 spiral is formed as follows:\r\n",
        "```\r\n",
        "21 22 23 24 25\r\n",
        "20  7  8  9 10\r\n",
        "19  6  1  2 11\r\n",
        "18  5  4  3 12\r\n",
        "17 16 15 14 13\r\n",
        "```\r\n",
        "It can be verified that the sum of the numbers on the diagonals is 101.\r\n",
        "\r\n",
        "What is the sum of the numbers on the diagonals in a 1001 by 1001 spiral formed in the same way?"
      ]
    },
    {
      "cell_type": "code",
      "metadata": {
        "id": "VdpDxjujwMqH"
      },
      "source": [
        "def find_left_diag(square_size):\r\n",
        "    total = 1\r\n",
        "    val = 1\r\n",
        "    \r\n",
        "    for i in range(1, square_size):\r\n",
        "        val += i * 2\r\n",
        "        total += val\r\n",
        "    return total"
      ],
      "execution_count": 25,
      "outputs": []
    },
    {
      "cell_type": "code",
      "metadata": {
        "id": "RlbXZgfMxA-O"
      },
      "source": [
        "def find_right_diag(square_size):\r\n",
        "    step = 1\r\n",
        "    total = 1\r\n",
        "    val = 1\r\n",
        "    \r\n",
        "    for i in range(1, square_size):\r\n",
        "        if i % 2 == 0:\r\n",
        "            step = i*2\r\n",
        "        else:\r\n",
        "            step = (i+1)*2\r\n",
        "        val += step\r\n",
        "        total += val\r\n",
        "    return total"
      ],
      "execution_count": 49,
      "outputs": []
    },
    {
      "cell_type": "code",
      "metadata": {
        "id": "UJRdXvTo002A"
      },
      "source": [
        "def sum_spiral_diags(square_size):\r\n",
        "    return find_left_diag(square_size) + find_right_diag(square_size) - 1"
      ],
      "execution_count": 50,
      "outputs": []
    },
    {
      "cell_type": "code",
      "metadata": {
        "colab": {
          "base_uri": "https://localhost:8080/"
        },
        "id": "VDZCR2Xn1BiJ",
        "outputId": "5703b540-cf57-4e3d-b550-1b0b9fe94ee9"
      },
      "source": [
        "sum_spiral_diags(1001)"
      ],
      "execution_count": 53,
      "outputs": [
        {
          "output_type": "execute_result",
          "data": {
            "text/plain": [
              "669171001"
            ]
          },
          "metadata": {
            "tags": []
          },
          "execution_count": 53
        }
      ]
    }
  ]
}