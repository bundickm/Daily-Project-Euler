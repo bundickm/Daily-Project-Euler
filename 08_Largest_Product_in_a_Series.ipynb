{
  "nbformat": 4,
  "nbformat_minor": 0,
  "metadata": {
    "colab": {
      "name": "08. Largest Product in a Series.ipynb",
      "provenance": [],
      "authorship_tag": "ABX9TyPK14AlGxbyro+OExvwlQfV"
    },
    "kernelspec": {
      "name": "python3",
      "display_name": "Python 3"
    }
  },
  "cells": [
    {
      "cell_type": "markdown",
      "metadata": {
        "id": "VJTm9Mw4IuQ2"
      },
      "source": [
        "The four adjacent digits in the 1000-digit number that have the greatest product are 9 × 9 × 8 × 9 = 5832.\r\n",
        "\r\n",
        "73167176531330624919225119674426574742355349194934\r\n",
        "96983520312774506326239578318016984801869478851843\r\n",
        "85861560789112949495459501737958331952853208805511\r\n",
        "12540698747158523863050715693290963295227443043557\r\n",
        "66896648950445244523161731856403098711121722383113\r\n",
        "62229893423380308135336276614282806444486645238749\r\n",
        "30358907296290491560440772390713810515859307960866\r\n",
        "70172427121883998797908792274921901699720888093776\r\n",
        "65727333001053367881220235421809751254540594752243\r\n",
        "52584907711670556013604839586446706324415722155397\r\n",
        "53697817977846174064955149290862569321978468622482\r\n",
        "83972241375657056057490261407972968652414535100474\r\n",
        "82166370484403199890008895243450658541227588666881\r\n",
        "16427171479924442928230863465674813919123162824586\r\n",
        "17866458359124566529476545682848912883142607690042\r\n",
        "24219022671055626321111109370544217506941658960408\r\n",
        "07198403850962455444362981230987879927244284909188\r\n",
        "84580156166097919133875499200524063689912560717606\r\n",
        "05886116467109405077541002256983155200055935729725\r\n",
        "71636269561882670428252483600823257530420752963450\r\n",
        "\r\n",
        "Find the thirteen adjacent digits in the 1000-digit number that have the greatest product. What is the value of this product?"
      ]
    },
    {
      "cell_type": "code",
      "metadata": {
        "id": "JGFqeyYwIt4c"
      },
      "source": [
        "from numpy import prod\r\n",
        "\r\n",
        "big_num = 7316717653133062491922511967442657474235534919493496983520312774506326239578318016984801869478851843858615607891129494954595017379583319528532088055111254069874715852386305071569329096329522744304355766896648950445244523161731856403098711121722383113622298934233803081353362766142828064444866452387493035890729629049156044077239071381051585930796086670172427121883998797908792274921901699720888093776657273330010533678812202354218097512545405947522435258490771167055601360483958644670632441572215539753697817977846174064955149290862569321978468622482839722413756570560574902614079729686524145351004748216637048440319989000889524345065854122758866688116427171479924442928230863465674813919123162824586178664583591245665294765456828489128831426076900422421902267105562632111110937054421750694165896040807198403850962455444362981230987879927244284909188845801561660979191338754992005240636899125607176060588611646710940507754100225698315520005593572972571636269561882670428252483600823257530420752963450"
      ],
      "execution_count": 15,
      "outputs": []
    },
    {
      "cell_type": "code",
      "metadata": {
        "id": "ERtgfnIGJOli"
      },
      "source": [
        "# Initial Solution\r\n",
        "\r\n",
        "def find_largest_product(num):\r\n",
        "    nums = [int(char) for char in str(big_num)]\r\n",
        "    largest = 0\r\n",
        "\r\n",
        "    for i in range(len(nums)):\r\n",
        "        product = prod(nums[i:i+13])\r\n",
        "        largest = max(product, largest)\r\n",
        "\r\n",
        "    return largest"
      ],
      "execution_count": 57,
      "outputs": []
    },
    {
      "cell_type": "code",
      "metadata": {
        "colab": {
          "base_uri": "https://localhost:8080/"
        },
        "id": "-Q1VYVqbLXkc",
        "outputId": "f40880d0-3f6d-40e9-d53d-c29a6c87b41c"
      },
      "source": [
        "print(find_largest_product(big_num))\r\n",
        "%timeit find_largest_product(big_num)"
      ],
      "execution_count": 58,
      "outputs": [
        {
          "output_type": "stream",
          "text": [
            "23514624000\n",
            "100 loops, best of 3: 7.72 ms per loop\n"
          ],
          "name": "stdout"
        }
      ]
    },
    {
      "cell_type": "code",
      "metadata": {
        "id": "ufNXoEeLL0de"
      },
      "source": [
        "# Slightly faster solution by skipping over 0's\r\n",
        "def find_largest_product(num):\r\n",
        "    nums = [int(char) for char in str(big_num)]\r\n",
        "    largest = 0\r\n",
        "    i = 0\r\n",
        "\r\n",
        "    while i <= (len(nums) - 13):\r\n",
        "        product = prod(nums[i:i+13])\r\n",
        "        largest = max(largest, product)\r\n",
        "\r\n",
        "        i += 1\r\n",
        "        if nums[i+12] == 0:\r\n",
        "            i += 13\r\n",
        "\r\n",
        "    return largest"
      ],
      "execution_count": 79,
      "outputs": []
    },
    {
      "cell_type": "code",
      "metadata": {
        "colab": {
          "base_uri": "https://localhost:8080/"
        },
        "id": "dklcgBDGMLDz",
        "outputId": "57f994e0-7e25-43ef-b892-5b0f6500489d"
      },
      "source": [
        "print(find_largest_product(big_num))\r\n",
        "%timeit find_largest_product(big_num)"
      ],
      "execution_count": 80,
      "outputs": [
        {
          "output_type": "stream",
          "text": [
            "23514624000\n",
            "100 loops, best of 3: 3.57 ms per loop\n"
          ],
          "name": "stdout"
        }
      ]
    },
    {
      "cell_type": "code",
      "metadata": {
        "id": "vECm8aZxQfv2"
      },
      "source": [
        ""
      ],
      "execution_count": null,
      "outputs": []
    }
  ]
}