{
  "nbformat": 4,
  "nbformat_minor": 0,
  "metadata": {
    "colab": {
      "name": "04. Largest Palindrome Product.ipynb",
      "provenance": [],
      "collapsed_sections": [],
      "authorship_tag": "ABX9TyN+TuatBY6SqCgxXzUqYXQJ",
      "include_colab_link": true
    },
    "kernelspec": {
      "name": "python3",
      "display_name": "Python 3"
    }
  },
  "cells": [
    {
      "cell_type": "markdown",
      "metadata": {
        "id": "view-in-github",
        "colab_type": "text"
      },
      "source": [
        "<a href=\"https://colab.research.google.com/github/bundickm/Daily-Project-Euler/blob/main/04_Largest_Palindrome_Product.ipynb\" target=\"_parent\"><img src=\"https://colab.research.google.com/assets/colab-badge.svg\" alt=\"Open In Colab\"/></a>"
      ]
    },
    {
      "cell_type": "markdown",
      "metadata": {
        "id": "LhJFtaeGQGdc"
      },
      "source": [
        "A palindromic number reads the same both ways. The largest palindrome made from the product of two 2-digit numbers is 9009 = 91 × 99.\r\n",
        "\r\n",
        "Find the largest palindrome made from the product of two 3-digit numbers."
      ]
    },
    {
      "cell_type": "code",
      "metadata": {
        "id": "ZACjcsURReJO"
      },
      "source": [
        "def value_is_palindrome(value):\r\n",
        "    return str(value) == str(value)[::-1]"
      ],
      "execution_count": null,
      "outputs": []
    },
    {
      "cell_type": "code",
      "metadata": {
        "id": "-2MTnY9fQA3O"
      },
      "source": [
        "# Initial attempt\r\n",
        "\r\n",
        "def find_max_palindrome(n):\r\n",
        "    max = 1\r\n",
        "    for i in range(n):\r\n",
        "        max *= 10\r\n",
        "    max_palindrome = -1\r\n",
        "\r\n",
        "    for i in range(max//10, max):\r\n",
        "        for j in range(max//10, max):\r\n",
        "            if value_is_palindrome(i*j) and ((i*j) > max_palindrome):\r\n",
        "                max_palindrome = i*j\r\n",
        "\r\n",
        "    return max_palindrome"
      ],
      "execution_count": null,
      "outputs": []
    },
    {
      "cell_type": "code",
      "metadata": {
        "colab": {
          "base_uri": "https://localhost:8080/"
        },
        "id": "CRAwQYYxTHcM",
        "outputId": "bdc9f848-fbb9-4a2f-9b88-a6c03c14881b"
      },
      "source": [
        "%timeit find_max_palindrome(3)"
      ],
      "execution_count": null,
      "outputs": [
        {
          "output_type": "stream",
          "text": [
            "1 loop, best of 3: 446 ms per loop\n"
          ],
          "name": "stdout"
        }
      ]
    },
    {
      "cell_type": "code",
      "metadata": {
        "id": "TVRNzipSX3aY"
      },
      "source": [
        "# Second attempt to reduce run time\r\n",
        "\r\n",
        "def find_max_palindrome(n): \r\n",
        "    max = 1\r\n",
        "    for i in range(n):\r\n",
        "        max *= 10\r\n",
        "    max_palindrome = -1\r\n",
        "\r\n",
        "    for i in range(max, (max//10)-1, -1): \r\n",
        "        for j in range(i,(max//10)-1,-1): \r\n",
        "            if (i*j < max_palindrome): \r\n",
        "                break\r\n",
        "            if value_is_palindrome(i*j) and (i*j > max_palindrome): \r\n",
        "                max_palindrome = i*j \r\n",
        "\r\n",
        "    return max_palindrome"
      ],
      "execution_count": null,
      "outputs": []
    },
    {
      "cell_type": "code",
      "metadata": {
        "colab": {
          "base_uri": "https://localhost:8080/"
        },
        "id": "JV-0b83FYG4i",
        "outputId": "3c96c273-950f-4252-e448-68c3576828ab"
      },
      "source": [
        "%timeit find_max_palindrome(3)"
      ],
      "execution_count": null,
      "outputs": [
        {
          "output_type": "stream",
          "text": [
            "100 loops, best of 3: 4.75 ms per loop\n"
          ],
          "name": "stdout"
        }
      ]
    },
    {
      "cell_type": "code",
      "metadata": {
        "id": "VvfFVtKRbFYl"
      },
      "source": [
        ""
      ],
      "execution_count": null,
      "outputs": []
    }
  ]
}